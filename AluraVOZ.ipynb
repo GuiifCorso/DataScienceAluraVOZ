{
  "nbformat": 4,
  "nbformat_minor": 0,
  "metadata": {
    "colab": {
      "provenance": [],
      "authorship_tag": "ABX9TyOWYVVrMqgENikxCKMg26En",
      "include_colab_link": true
    },
    "kernelspec": {
      "name": "python3",
      "display_name": "Python 3"
    },
    "language_info": {
      "name": "python"
    }
  },
  "cells": [
    {
      "cell_type": "markdown",
      "metadata": {
        "id": "view-in-github",
        "colab_type": "text"
      },
      "source": [
        "<a href=\"https://colab.research.google.com/github/GuiifCorso/DataScienceAluraVOZ/blob/main/AluraVOZ.ipynb\" target=\"_parent\"><img src=\"https://colab.research.google.com/assets/colab-badge.svg\" alt=\"Open In Colab\"/></a>"
      ]
    },
    {
      "cell_type": "code",
      "source": [
        "import pandas as pd\n",
        "import seaborn as sns\n",
        "import matplotlib.pyplot as plt"
      ],
      "metadata": {
        "id": "1NtJ-c6FSZdp"
      },
      "execution_count": 1,
      "outputs": []
    },
    {
      "cell_type": "code",
      "execution_count": 61,
      "metadata": {
        "id": "F1jNrsi-SSDA"
      },
      "outputs": [],
      "source": [
        "FILE_NAME = 'Telco-Customer-Churn.json'\n",
        "df_churn_raw = pd.read_json(FILE_NAME)\n",
        "\n",
        "cols_to_normalize = ['customer', 'internet', 'account', 'phone']\n",
        "for col in cols_to_normalize:\n",
        "    if col in df_churn_raw.columns:\n",
        "        normalized_col = pd.json_normalize(df_churn_raw[col])\n",
        "        df_churn_raw = df_churn_raw.drop(col, axis=1)\n",
        "        df_churn_raw = pd.concat([df_churn_raw, normalized_col], axis=1)\n",
        "\n",
        "df_churn = df_churn_raw"
      ]
    },
    {
      "cell_type": "code",
      "source": [
        "df_churn.info()"
      ],
      "metadata": {
        "colab": {
          "base_uri": "https://localhost:8080/"
        },
        "id": "g-O_brIAXjjA",
        "outputId": "1ce20eb1-98b1-4866-f52e-bde66d1917af"
      },
      "execution_count": 62,
      "outputs": [
        {
          "output_type": "stream",
          "name": "stdout",
          "text": [
            "<class 'pandas.core.frame.DataFrame'>\n",
            "RangeIndex: 7267 entries, 0 to 7266\n",
            "Data columns (total 21 columns):\n",
            " #   Column            Non-Null Count  Dtype  \n",
            "---  ------            --------------  -----  \n",
            " 0   customerID        7267 non-null   object \n",
            " 1   Churn             7267 non-null   object \n",
            " 2   gender            7267 non-null   object \n",
            " 3   SeniorCitizen     7267 non-null   int64  \n",
            " 4   Partner           7267 non-null   object \n",
            " 5   Dependents        7267 non-null   object \n",
            " 6   tenure            7267 non-null   int64  \n",
            " 7   InternetService   7267 non-null   object \n",
            " 8   OnlineSecurity    7267 non-null   object \n",
            " 9   OnlineBackup      7267 non-null   object \n",
            " 10  DeviceProtection  7267 non-null   object \n",
            " 11  TechSupport       7267 non-null   object \n",
            " 12  StreamingTV       7267 non-null   object \n",
            " 13  StreamingMovies   7267 non-null   object \n",
            " 14  Contract          7267 non-null   object \n",
            " 15  PaperlessBilling  7267 non-null   object \n",
            " 16  PaymentMethod     7267 non-null   object \n",
            " 17  Charges.Monthly   7267 non-null   float64\n",
            " 18  Charges.Total     7267 non-null   object \n",
            " 19  PhoneService      7267 non-null   object \n",
            " 20  MultipleLines     7267 non-null   object \n",
            "dtypes: float64(1), int64(2), object(18)\n",
            "memory usage: 1.2+ MB\n"
          ]
        }
      ]
    },
    {
      "cell_type": "markdown",
      "source": [
        "#Interpretação\n",
        "Pelas informações do dataframe, o tipo de dado da coluna Charges.Total está como objeto, mas o utilizável seria do tipo número, ou float64.\n",
        "Veremos o que pode causar tal erro."
      ],
      "metadata": {
        "id": "QecrD_QrXo9_"
      }
    },
    {
      "cell_type": "code",
      "source": [
        "#Convertendo toda a coluna para o tipo numérico\n",
        "total_charges = pd.to_numeric(df_churn['Charges.Total'], errors='coerce')\n",
        "\n",
        "#Verificando quais valores não foram convertidos ou estão nulos\n",
        "nan_charges = total_charges.isnull()\n",
        "\n",
        "#Visualizando os valores que não foram convertidos\n",
        "df_churn.loc[nan_charges, 'Charges.Total']"
      ],
      "metadata": {
        "colab": {
          "base_uri": "https://localhost:8080/",
          "height": 429
        },
        "id": "2Xno5rpRVOH8",
        "outputId": "2597d17c-8284-484b-fde2-cbe6805cbaf6"
      },
      "execution_count": 63,
      "outputs": [
        {
          "output_type": "execute_result",
          "data": {
            "text/plain": [
              "975      \n",
              "1775     \n",
              "1955     \n",
              "2075     \n",
              "2232     \n",
              "2308     \n",
              "2930     \n",
              "3134     \n",
              "3203     \n",
              "4169     \n",
              "5599     \n",
              "Name: Charges.Total, dtype: object"
            ],
            "text/html": [
              "<div>\n",
              "<style scoped>\n",
              "    .dataframe tbody tr th:only-of-type {\n",
              "        vertical-align: middle;\n",
              "    }\n",
              "\n",
              "    .dataframe tbody tr th {\n",
              "        vertical-align: top;\n",
              "    }\n",
              "\n",
              "    .dataframe thead th {\n",
              "        text-align: right;\n",
              "    }\n",
              "</style>\n",
              "<table border=\"1\" class=\"dataframe\">\n",
              "  <thead>\n",
              "    <tr style=\"text-align: right;\">\n",
              "      <th></th>\n",
              "      <th>Charges.Total</th>\n",
              "    </tr>\n",
              "  </thead>\n",
              "  <tbody>\n",
              "    <tr>\n",
              "      <th>975</th>\n",
              "      <td></td>\n",
              "    </tr>\n",
              "    <tr>\n",
              "      <th>1775</th>\n",
              "      <td></td>\n",
              "    </tr>\n",
              "    <tr>\n",
              "      <th>1955</th>\n",
              "      <td></td>\n",
              "    </tr>\n",
              "    <tr>\n",
              "      <th>2075</th>\n",
              "      <td></td>\n",
              "    </tr>\n",
              "    <tr>\n",
              "      <th>2232</th>\n",
              "      <td></td>\n",
              "    </tr>\n",
              "    <tr>\n",
              "      <th>2308</th>\n",
              "      <td></td>\n",
              "    </tr>\n",
              "    <tr>\n",
              "      <th>2930</th>\n",
              "      <td></td>\n",
              "    </tr>\n",
              "    <tr>\n",
              "      <th>3134</th>\n",
              "      <td></td>\n",
              "    </tr>\n",
              "    <tr>\n",
              "      <th>3203</th>\n",
              "      <td></td>\n",
              "    </tr>\n",
              "    <tr>\n",
              "      <th>4169</th>\n",
              "      <td></td>\n",
              "    </tr>\n",
              "    <tr>\n",
              "      <th>5599</th>\n",
              "      <td></td>\n",
              "    </tr>\n",
              "  </tbody>\n",
              "</table>\n",
              "</div><br><label><b>dtype:</b> object</label>"
            ]
          },
          "metadata": {},
          "execution_count": 63
        }
      ]
    },
    {
      "cell_type": "markdown",
      "source": [
        "Como pode-se ver, os valores estão nulos, ou seja, a cobrança total nestes casos foi de zero. Podemos nos aprofundar e visualizar as outras colunas que podem relacionar os preços ao total, como a coluna do preço do plano e dos meses de contrato."
      ],
      "metadata": {
        "id": "IYXdebl5ZKbk"
      }
    },
    {
      "cell_type": "code",
      "source": [
        "df_churn.loc[nan_charges, ['tenure', 'Charges.Monthly']]"
      ],
      "metadata": {
        "colab": {
          "base_uri": "https://localhost:8080/",
          "height": 394
        },
        "id": "4pqJHKAIZpff",
        "outputId": "21e64156-d719-44f7-ac27-064a2e9fe46a"
      },
      "execution_count": 64,
      "outputs": [
        {
          "output_type": "execute_result",
          "data": {
            "text/plain": [
              "      tenure  Charges.Monthly\n",
              "975        0            56.05\n",
              "1775       0            20.00\n",
              "1955       0            61.90\n",
              "2075       0            19.70\n",
              "2232       0            20.25\n",
              "2308       0            25.35\n",
              "2930       0            73.35\n",
              "3134       0            25.75\n",
              "3203       0            52.55\n",
              "4169       0            80.85\n",
              "5599       0            19.85"
            ],
            "text/html": [
              "\n",
              "  <div id=\"df-10bb985c-2516-44cc-8067-34d229cd27c5\" class=\"colab-df-container\">\n",
              "    <div>\n",
              "<style scoped>\n",
              "    .dataframe tbody tr th:only-of-type {\n",
              "        vertical-align: middle;\n",
              "    }\n",
              "\n",
              "    .dataframe tbody tr th {\n",
              "        vertical-align: top;\n",
              "    }\n",
              "\n",
              "    .dataframe thead th {\n",
              "        text-align: right;\n",
              "    }\n",
              "</style>\n",
              "<table border=\"1\" class=\"dataframe\">\n",
              "  <thead>\n",
              "    <tr style=\"text-align: right;\">\n",
              "      <th></th>\n",
              "      <th>tenure</th>\n",
              "      <th>Charges.Monthly</th>\n",
              "    </tr>\n",
              "  </thead>\n",
              "  <tbody>\n",
              "    <tr>\n",
              "      <th>975</th>\n",
              "      <td>0</td>\n",
              "      <td>56.05</td>\n",
              "    </tr>\n",
              "    <tr>\n",
              "      <th>1775</th>\n",
              "      <td>0</td>\n",
              "      <td>20.00</td>\n",
              "    </tr>\n",
              "    <tr>\n",
              "      <th>1955</th>\n",
              "      <td>0</td>\n",
              "      <td>61.90</td>\n",
              "    </tr>\n",
              "    <tr>\n",
              "      <th>2075</th>\n",
              "      <td>0</td>\n",
              "      <td>19.70</td>\n",
              "    </tr>\n",
              "    <tr>\n",
              "      <th>2232</th>\n",
              "      <td>0</td>\n",
              "      <td>20.25</td>\n",
              "    </tr>\n",
              "    <tr>\n",
              "      <th>2308</th>\n",
              "      <td>0</td>\n",
              "      <td>25.35</td>\n",
              "    </tr>\n",
              "    <tr>\n",
              "      <th>2930</th>\n",
              "      <td>0</td>\n",
              "      <td>73.35</td>\n",
              "    </tr>\n",
              "    <tr>\n",
              "      <th>3134</th>\n",
              "      <td>0</td>\n",
              "      <td>25.75</td>\n",
              "    </tr>\n",
              "    <tr>\n",
              "      <th>3203</th>\n",
              "      <td>0</td>\n",
              "      <td>52.55</td>\n",
              "    </tr>\n",
              "    <tr>\n",
              "      <th>4169</th>\n",
              "      <td>0</td>\n",
              "      <td>80.85</td>\n",
              "    </tr>\n",
              "    <tr>\n",
              "      <th>5599</th>\n",
              "      <td>0</td>\n",
              "      <td>19.85</td>\n",
              "    </tr>\n",
              "  </tbody>\n",
              "</table>\n",
              "</div>\n",
              "    <div class=\"colab-df-buttons\">\n",
              "\n",
              "  <div class=\"colab-df-container\">\n",
              "    <button class=\"colab-df-convert\" onclick=\"convertToInteractive('df-10bb985c-2516-44cc-8067-34d229cd27c5')\"\n",
              "            title=\"Convert this dataframe to an interactive table.\"\n",
              "            style=\"display:none;\">\n",
              "\n",
              "  <svg xmlns=\"http://www.w3.org/2000/svg\" height=\"24px\" viewBox=\"0 -960 960 960\">\n",
              "    <path d=\"M120-120v-720h720v720H120Zm60-500h600v-160H180v160Zm220 220h160v-160H400v160Zm0 220h160v-160H400v160ZM180-400h160v-160H180v160Zm440 0h160v-160H620v160ZM180-180h160v-160H180v160Zm440 0h160v-160H620v160Z\"/>\n",
              "  </svg>\n",
              "    </button>\n",
              "\n",
              "  <style>\n",
              "    .colab-df-container {\n",
              "      display:flex;\n",
              "      gap: 12px;\n",
              "    }\n",
              "\n",
              "    .colab-df-convert {\n",
              "      background-color: #E8F0FE;\n",
              "      border: none;\n",
              "      border-radius: 50%;\n",
              "      cursor: pointer;\n",
              "      display: none;\n",
              "      fill: #1967D2;\n",
              "      height: 32px;\n",
              "      padding: 0 0 0 0;\n",
              "      width: 32px;\n",
              "    }\n",
              "\n",
              "    .colab-df-convert:hover {\n",
              "      background-color: #E2EBFA;\n",
              "      box-shadow: 0px 1px 2px rgba(60, 64, 67, 0.3), 0px 1px 3px 1px rgba(60, 64, 67, 0.15);\n",
              "      fill: #174EA6;\n",
              "    }\n",
              "\n",
              "    .colab-df-buttons div {\n",
              "      margin-bottom: 4px;\n",
              "    }\n",
              "\n",
              "    [theme=dark] .colab-df-convert {\n",
              "      background-color: #3B4455;\n",
              "      fill: #D2E3FC;\n",
              "    }\n",
              "\n",
              "    [theme=dark] .colab-df-convert:hover {\n",
              "      background-color: #434B5C;\n",
              "      box-shadow: 0px 1px 3px 1px rgba(0, 0, 0, 0.15);\n",
              "      filter: drop-shadow(0px 1px 2px rgba(0, 0, 0, 0.3));\n",
              "      fill: #FFFFFF;\n",
              "    }\n",
              "  </style>\n",
              "\n",
              "    <script>\n",
              "      const buttonEl =\n",
              "        document.querySelector('#df-10bb985c-2516-44cc-8067-34d229cd27c5 button.colab-df-convert');\n",
              "      buttonEl.style.display =\n",
              "        google.colab.kernel.accessAllowed ? 'block' : 'none';\n",
              "\n",
              "      async function convertToInteractive(key) {\n",
              "        const element = document.querySelector('#df-10bb985c-2516-44cc-8067-34d229cd27c5');\n",
              "        const dataTable =\n",
              "          await google.colab.kernel.invokeFunction('convertToInteractive',\n",
              "                                                    [key], {});\n",
              "        if (!dataTable) return;\n",
              "\n",
              "        const docLinkHtml = 'Like what you see? Visit the ' +\n",
              "          '<a target=\"_blank\" href=https://colab.research.google.com/notebooks/data_table.ipynb>data table notebook</a>'\n",
              "          + ' to learn more about interactive tables.';\n",
              "        element.innerHTML = '';\n",
              "        dataTable['output_type'] = 'display_data';\n",
              "        await google.colab.output.renderOutput(dataTable, element);\n",
              "        const docLink = document.createElement('div');\n",
              "        docLink.innerHTML = docLinkHtml;\n",
              "        element.appendChild(docLink);\n",
              "      }\n",
              "    </script>\n",
              "  </div>\n",
              "\n",
              "\n",
              "<div id=\"df-1d23d6dc-627b-462d-8c93-a2c0e1049c1a\">\n",
              "  <button class=\"colab-df-quickchart\" onclick=\"quickchart('df-1d23d6dc-627b-462d-8c93-a2c0e1049c1a')\"\n",
              "            title=\"Suggest charts\"\n",
              "            style=\"display:none;\">\n",
              "\n",
              "<svg xmlns=\"http://www.w3.org/2000/svg\" height=\"24px\"viewBox=\"0 0 24 24\"\n",
              "     width=\"24px\">\n",
              "    <g>\n",
              "        <path d=\"M19 3H5c-1.1 0-2 .9-2 2v14c0 1.1.9 2 2 2h14c1.1 0 2-.9 2-2V5c0-1.1-.9-2-2-2zM9 17H7v-7h2v7zm4 0h-2V7h2v10zm4 0h-2v-4h2v4z\"/>\n",
              "    </g>\n",
              "</svg>\n",
              "  </button>\n",
              "\n",
              "<style>\n",
              "  .colab-df-quickchart {\n",
              "      --bg-color: #E8F0FE;\n",
              "      --fill-color: #1967D2;\n",
              "      --hover-bg-color: #E2EBFA;\n",
              "      --hover-fill-color: #174EA6;\n",
              "      --disabled-fill-color: #AAA;\n",
              "      --disabled-bg-color: #DDD;\n",
              "  }\n",
              "\n",
              "  [theme=dark] .colab-df-quickchart {\n",
              "      --bg-color: #3B4455;\n",
              "      --fill-color: #D2E3FC;\n",
              "      --hover-bg-color: #434B5C;\n",
              "      --hover-fill-color: #FFFFFF;\n",
              "      --disabled-bg-color: #3B4455;\n",
              "      --disabled-fill-color: #666;\n",
              "  }\n",
              "\n",
              "  .colab-df-quickchart {\n",
              "    background-color: var(--bg-color);\n",
              "    border: none;\n",
              "    border-radius: 50%;\n",
              "    cursor: pointer;\n",
              "    display: none;\n",
              "    fill: var(--fill-color);\n",
              "    height: 32px;\n",
              "    padding: 0;\n",
              "    width: 32px;\n",
              "  }\n",
              "\n",
              "  .colab-df-quickchart:hover {\n",
              "    background-color: var(--hover-bg-color);\n",
              "    box-shadow: 0 1px 2px rgba(60, 64, 67, 0.3), 0 1px 3px 1px rgba(60, 64, 67, 0.15);\n",
              "    fill: var(--button-hover-fill-color);\n",
              "  }\n",
              "\n",
              "  .colab-df-quickchart-complete:disabled,\n",
              "  .colab-df-quickchart-complete:disabled:hover {\n",
              "    background-color: var(--disabled-bg-color);\n",
              "    fill: var(--disabled-fill-color);\n",
              "    box-shadow: none;\n",
              "  }\n",
              "\n",
              "  .colab-df-spinner {\n",
              "    border: 2px solid var(--fill-color);\n",
              "    border-color: transparent;\n",
              "    border-bottom-color: var(--fill-color);\n",
              "    animation:\n",
              "      spin 1s steps(1) infinite;\n",
              "  }\n",
              "\n",
              "  @keyframes spin {\n",
              "    0% {\n",
              "      border-color: transparent;\n",
              "      border-bottom-color: var(--fill-color);\n",
              "      border-left-color: var(--fill-color);\n",
              "    }\n",
              "    20% {\n",
              "      border-color: transparent;\n",
              "      border-left-color: var(--fill-color);\n",
              "      border-top-color: var(--fill-color);\n",
              "    }\n",
              "    30% {\n",
              "      border-color: transparent;\n",
              "      border-left-color: var(--fill-color);\n",
              "      border-top-color: var(--fill-color);\n",
              "      border-right-color: var(--fill-color);\n",
              "    }\n",
              "    40% {\n",
              "      border-color: transparent;\n",
              "      border-right-color: var(--fill-color);\n",
              "      border-top-color: var(--fill-color);\n",
              "    }\n",
              "    60% {\n",
              "      border-color: transparent;\n",
              "      border-right-color: var(--fill-color);\n",
              "    }\n",
              "    80% {\n",
              "      border-color: transparent;\n",
              "      border-right-color: var(--fill-color);\n",
              "      border-bottom-color: var(--fill-color);\n",
              "    }\n",
              "    90% {\n",
              "      border-color: transparent;\n",
              "      border-bottom-color: var(--fill-color);\n",
              "    }\n",
              "  }\n",
              "</style>\n",
              "\n",
              "  <script>\n",
              "    async function quickchart(key) {\n",
              "      const quickchartButtonEl =\n",
              "        document.querySelector('#' + key + ' button');\n",
              "      quickchartButtonEl.disabled = true;  // To prevent multiple clicks.\n",
              "      quickchartButtonEl.classList.add('colab-df-spinner');\n",
              "      try {\n",
              "        const charts = await google.colab.kernel.invokeFunction(\n",
              "            'suggestCharts', [key], {});\n",
              "      } catch (error) {\n",
              "        console.error('Error during call to suggestCharts:', error);\n",
              "      }\n",
              "      quickchartButtonEl.classList.remove('colab-df-spinner');\n",
              "      quickchartButtonEl.classList.add('colab-df-quickchart-complete');\n",
              "    }\n",
              "    (() => {\n",
              "      let quickchartButtonEl =\n",
              "        document.querySelector('#df-1d23d6dc-627b-462d-8c93-a2c0e1049c1a button');\n",
              "      quickchartButtonEl.style.display =\n",
              "        google.colab.kernel.accessAllowed ? 'block' : 'none';\n",
              "    })();\n",
              "  </script>\n",
              "</div>\n",
              "\n",
              "    </div>\n",
              "  </div>\n"
            ],
            "application/vnd.google.colaboratory.intrinsic+json": {
              "type": "dataframe",
              "summary": "{\n  \"name\": \"df_churn\",\n  \"rows\": 11,\n  \"fields\": [\n    {\n      \"column\": \"tenure\",\n      \"properties\": {\n        \"dtype\": \"number\",\n        \"std\": 0,\n        \"min\": 0,\n        \"max\": 0,\n        \"num_unique_values\": 1,\n        \"samples\": [\n          0\n        ],\n        \"semantic_type\": \"\",\n        \"description\": \"\"\n      }\n    },\n    {\n      \"column\": \"Charges.Monthly\",\n      \"properties\": {\n        \"dtype\": \"number\",\n        \"std\": 23.83148414101892,\n        \"min\": 19.7,\n        \"max\": 80.85,\n        \"num_unique_values\": 11,\n        \"samples\": [\n          25.35\n        ],\n        \"semantic_type\": \"\",\n        \"description\": \"\"\n      }\n    }\n  ]\n}"
            }
          },
          "metadata": {},
          "execution_count": 64
        }
      ]
    },
    {
      "cell_type": "markdown",
      "source": [
        "\"Tenure\" representa a quantidade de meses de contrato do cliente. Nesses casos, os clientes estão há \"0 meses\" com o plano, ou seja, compraram neste mês.\n",
        "Dito isso, podemos supor que o total que o cliente pagou foi equivalete ao preço mensal do contrato."
      ],
      "metadata": {
        "id": "tjEaYtxXaPuG"
      }
    },
    {
      "cell_type": "code",
      "source": [
        "#Preenchendo todos os valores vazios da coluna de cobranças totais com as cobranças mensais\n",
        "total_charges.fillna(df_churn['Charges.Monthly'], inplace=True)\n",
        "\n",
        "#Atualizando no dataframe original\n",
        "df_churn['Charges.Total'] = total_charges\n",
        "\n",
        "#Visualizando os valores\n",
        "df_churn.loc[nan_charges][['Charges.Monthly', 'Charges.Total']]"
      ],
      "metadata": {
        "colab": {
          "base_uri": "https://localhost:8080/",
          "height": 394
        },
        "id": "h4vx2zsEYSNh",
        "outputId": "9e05e289-aaa9-4bd3-f9d8-d4c47a7b5088"
      },
      "execution_count": 65,
      "outputs": [
        {
          "output_type": "execute_result",
          "data": {
            "text/plain": [
              "      Charges.Monthly  Charges.Total\n",
              "975             56.05          56.05\n",
              "1775            20.00          20.00\n",
              "1955            61.90          61.90\n",
              "2075            19.70          19.70\n",
              "2232            20.25          20.25\n",
              "2308            25.35          25.35\n",
              "2930            73.35          73.35\n",
              "3134            25.75          25.75\n",
              "3203            52.55          52.55\n",
              "4169            80.85          80.85\n",
              "5599            19.85          19.85"
            ],
            "text/html": [
              "\n",
              "  <div id=\"df-61b7c781-86fa-4009-b549-8dbcb1be4f80\" class=\"colab-df-container\">\n",
              "    <div>\n",
              "<style scoped>\n",
              "    .dataframe tbody tr th:only-of-type {\n",
              "        vertical-align: middle;\n",
              "    }\n",
              "\n",
              "    .dataframe tbody tr th {\n",
              "        vertical-align: top;\n",
              "    }\n",
              "\n",
              "    .dataframe thead th {\n",
              "        text-align: right;\n",
              "    }\n",
              "</style>\n",
              "<table border=\"1\" class=\"dataframe\">\n",
              "  <thead>\n",
              "    <tr style=\"text-align: right;\">\n",
              "      <th></th>\n",
              "      <th>Charges.Monthly</th>\n",
              "      <th>Charges.Total</th>\n",
              "    </tr>\n",
              "  </thead>\n",
              "  <tbody>\n",
              "    <tr>\n",
              "      <th>975</th>\n",
              "      <td>56.05</td>\n",
              "      <td>56.05</td>\n",
              "    </tr>\n",
              "    <tr>\n",
              "      <th>1775</th>\n",
              "      <td>20.00</td>\n",
              "      <td>20.00</td>\n",
              "    </tr>\n",
              "    <tr>\n",
              "      <th>1955</th>\n",
              "      <td>61.90</td>\n",
              "      <td>61.90</td>\n",
              "    </tr>\n",
              "    <tr>\n",
              "      <th>2075</th>\n",
              "      <td>19.70</td>\n",
              "      <td>19.70</td>\n",
              "    </tr>\n",
              "    <tr>\n",
              "      <th>2232</th>\n",
              "      <td>20.25</td>\n",
              "      <td>20.25</td>\n",
              "    </tr>\n",
              "    <tr>\n",
              "      <th>2308</th>\n",
              "      <td>25.35</td>\n",
              "      <td>25.35</td>\n",
              "    </tr>\n",
              "    <tr>\n",
              "      <th>2930</th>\n",
              "      <td>73.35</td>\n",
              "      <td>73.35</td>\n",
              "    </tr>\n",
              "    <tr>\n",
              "      <th>3134</th>\n",
              "      <td>25.75</td>\n",
              "      <td>25.75</td>\n",
              "    </tr>\n",
              "    <tr>\n",
              "      <th>3203</th>\n",
              "      <td>52.55</td>\n",
              "      <td>52.55</td>\n",
              "    </tr>\n",
              "    <tr>\n",
              "      <th>4169</th>\n",
              "      <td>80.85</td>\n",
              "      <td>80.85</td>\n",
              "    </tr>\n",
              "    <tr>\n",
              "      <th>5599</th>\n",
              "      <td>19.85</td>\n",
              "      <td>19.85</td>\n",
              "    </tr>\n",
              "  </tbody>\n",
              "</table>\n",
              "</div>\n",
              "    <div class=\"colab-df-buttons\">\n",
              "\n",
              "  <div class=\"colab-df-container\">\n",
              "    <button class=\"colab-df-convert\" onclick=\"convertToInteractive('df-61b7c781-86fa-4009-b549-8dbcb1be4f80')\"\n",
              "            title=\"Convert this dataframe to an interactive table.\"\n",
              "            style=\"display:none;\">\n",
              "\n",
              "  <svg xmlns=\"http://www.w3.org/2000/svg\" height=\"24px\" viewBox=\"0 -960 960 960\">\n",
              "    <path d=\"M120-120v-720h720v720H120Zm60-500h600v-160H180v160Zm220 220h160v-160H400v160Zm0 220h160v-160H400v160ZM180-400h160v-160H180v160Zm440 0h160v-160H620v160ZM180-180h160v-160H180v160Zm440 0h160v-160H620v160Z\"/>\n",
              "  </svg>\n",
              "    </button>\n",
              "\n",
              "  <style>\n",
              "    .colab-df-container {\n",
              "      display:flex;\n",
              "      gap: 12px;\n",
              "    }\n",
              "\n",
              "    .colab-df-convert {\n",
              "      background-color: #E8F0FE;\n",
              "      border: none;\n",
              "      border-radius: 50%;\n",
              "      cursor: pointer;\n",
              "      display: none;\n",
              "      fill: #1967D2;\n",
              "      height: 32px;\n",
              "      padding: 0 0 0 0;\n",
              "      width: 32px;\n",
              "    }\n",
              "\n",
              "    .colab-df-convert:hover {\n",
              "      background-color: #E2EBFA;\n",
              "      box-shadow: 0px 1px 2px rgba(60, 64, 67, 0.3), 0px 1px 3px 1px rgba(60, 64, 67, 0.15);\n",
              "      fill: #174EA6;\n",
              "    }\n",
              "\n",
              "    .colab-df-buttons div {\n",
              "      margin-bottom: 4px;\n",
              "    }\n",
              "\n",
              "    [theme=dark] .colab-df-convert {\n",
              "      background-color: #3B4455;\n",
              "      fill: #D2E3FC;\n",
              "    }\n",
              "\n",
              "    [theme=dark] .colab-df-convert:hover {\n",
              "      background-color: #434B5C;\n",
              "      box-shadow: 0px 1px 3px 1px rgba(0, 0, 0, 0.15);\n",
              "      filter: drop-shadow(0px 1px 2px rgba(0, 0, 0, 0.3));\n",
              "      fill: #FFFFFF;\n",
              "    }\n",
              "  </style>\n",
              "\n",
              "    <script>\n",
              "      const buttonEl =\n",
              "        document.querySelector('#df-61b7c781-86fa-4009-b549-8dbcb1be4f80 button.colab-df-convert');\n",
              "      buttonEl.style.display =\n",
              "        google.colab.kernel.accessAllowed ? 'block' : 'none';\n",
              "\n",
              "      async function convertToInteractive(key) {\n",
              "        const element = document.querySelector('#df-61b7c781-86fa-4009-b549-8dbcb1be4f80');\n",
              "        const dataTable =\n",
              "          await google.colab.kernel.invokeFunction('convertToInteractive',\n",
              "                                                    [key], {});\n",
              "        if (!dataTable) return;\n",
              "\n",
              "        const docLinkHtml = 'Like what you see? Visit the ' +\n",
              "          '<a target=\"_blank\" href=https://colab.research.google.com/notebooks/data_table.ipynb>data table notebook</a>'\n",
              "          + ' to learn more about interactive tables.';\n",
              "        element.innerHTML = '';\n",
              "        dataTable['output_type'] = 'display_data';\n",
              "        await google.colab.output.renderOutput(dataTable, element);\n",
              "        const docLink = document.createElement('div');\n",
              "        docLink.innerHTML = docLinkHtml;\n",
              "        element.appendChild(docLink);\n",
              "      }\n",
              "    </script>\n",
              "  </div>\n",
              "\n",
              "\n",
              "<div id=\"df-c21cf593-14f2-420f-b7ca-1ecc858a5150\">\n",
              "  <button class=\"colab-df-quickchart\" onclick=\"quickchart('df-c21cf593-14f2-420f-b7ca-1ecc858a5150')\"\n",
              "            title=\"Suggest charts\"\n",
              "            style=\"display:none;\">\n",
              "\n",
              "<svg xmlns=\"http://www.w3.org/2000/svg\" height=\"24px\"viewBox=\"0 0 24 24\"\n",
              "     width=\"24px\">\n",
              "    <g>\n",
              "        <path d=\"M19 3H5c-1.1 0-2 .9-2 2v14c0 1.1.9 2 2 2h14c1.1 0 2-.9 2-2V5c0-1.1-.9-2-2-2zM9 17H7v-7h2v7zm4 0h-2V7h2v10zm4 0h-2v-4h2v4z\"/>\n",
              "    </g>\n",
              "</svg>\n",
              "  </button>\n",
              "\n",
              "<style>\n",
              "  .colab-df-quickchart {\n",
              "      --bg-color: #E8F0FE;\n",
              "      --fill-color: #1967D2;\n",
              "      --hover-bg-color: #E2EBFA;\n",
              "      --hover-fill-color: #174EA6;\n",
              "      --disabled-fill-color: #AAA;\n",
              "      --disabled-bg-color: #DDD;\n",
              "  }\n",
              "\n",
              "  [theme=dark] .colab-df-quickchart {\n",
              "      --bg-color: #3B4455;\n",
              "      --fill-color: #D2E3FC;\n",
              "      --hover-bg-color: #434B5C;\n",
              "      --hover-fill-color: #FFFFFF;\n",
              "      --disabled-bg-color: #3B4455;\n",
              "      --disabled-fill-color: #666;\n",
              "  }\n",
              "\n",
              "  .colab-df-quickchart {\n",
              "    background-color: var(--bg-color);\n",
              "    border: none;\n",
              "    border-radius: 50%;\n",
              "    cursor: pointer;\n",
              "    display: none;\n",
              "    fill: var(--fill-color);\n",
              "    height: 32px;\n",
              "    padding: 0;\n",
              "    width: 32px;\n",
              "  }\n",
              "\n",
              "  .colab-df-quickchart:hover {\n",
              "    background-color: var(--hover-bg-color);\n",
              "    box-shadow: 0 1px 2px rgba(60, 64, 67, 0.3), 0 1px 3px 1px rgba(60, 64, 67, 0.15);\n",
              "    fill: var(--button-hover-fill-color);\n",
              "  }\n",
              "\n",
              "  .colab-df-quickchart-complete:disabled,\n",
              "  .colab-df-quickchart-complete:disabled:hover {\n",
              "    background-color: var(--disabled-bg-color);\n",
              "    fill: var(--disabled-fill-color);\n",
              "    box-shadow: none;\n",
              "  }\n",
              "\n",
              "  .colab-df-spinner {\n",
              "    border: 2px solid var(--fill-color);\n",
              "    border-color: transparent;\n",
              "    border-bottom-color: var(--fill-color);\n",
              "    animation:\n",
              "      spin 1s steps(1) infinite;\n",
              "  }\n",
              "\n",
              "  @keyframes spin {\n",
              "    0% {\n",
              "      border-color: transparent;\n",
              "      border-bottom-color: var(--fill-color);\n",
              "      border-left-color: var(--fill-color);\n",
              "    }\n",
              "    20% {\n",
              "      border-color: transparent;\n",
              "      border-left-color: var(--fill-color);\n",
              "      border-top-color: var(--fill-color);\n",
              "    }\n",
              "    30% {\n",
              "      border-color: transparent;\n",
              "      border-left-color: var(--fill-color);\n",
              "      border-top-color: var(--fill-color);\n",
              "      border-right-color: var(--fill-color);\n",
              "    }\n",
              "    40% {\n",
              "      border-color: transparent;\n",
              "      border-right-color: var(--fill-color);\n",
              "      border-top-color: var(--fill-color);\n",
              "    }\n",
              "    60% {\n",
              "      border-color: transparent;\n",
              "      border-right-color: var(--fill-color);\n",
              "    }\n",
              "    80% {\n",
              "      border-color: transparent;\n",
              "      border-right-color: var(--fill-color);\n",
              "      border-bottom-color: var(--fill-color);\n",
              "    }\n",
              "    90% {\n",
              "      border-color: transparent;\n",
              "      border-bottom-color: var(--fill-color);\n",
              "    }\n",
              "  }\n",
              "</style>\n",
              "\n",
              "  <script>\n",
              "    async function quickchart(key) {\n",
              "      const quickchartButtonEl =\n",
              "        document.querySelector('#' + key + ' button');\n",
              "      quickchartButtonEl.disabled = true;  // To prevent multiple clicks.\n",
              "      quickchartButtonEl.classList.add('colab-df-spinner');\n",
              "      try {\n",
              "        const charts = await google.colab.kernel.invokeFunction(\n",
              "            'suggestCharts', [key], {});\n",
              "      } catch (error) {\n",
              "        console.error('Error during call to suggestCharts:', error);\n",
              "      }\n",
              "      quickchartButtonEl.classList.remove('colab-df-spinner');\n",
              "      quickchartButtonEl.classList.add('colab-df-quickchart-complete');\n",
              "    }\n",
              "    (() => {\n",
              "      let quickchartButtonEl =\n",
              "        document.querySelector('#df-c21cf593-14f2-420f-b7ca-1ecc858a5150 button');\n",
              "      quickchartButtonEl.style.display =\n",
              "        google.colab.kernel.accessAllowed ? 'block' : 'none';\n",
              "    })();\n",
              "  </script>\n",
              "</div>\n",
              "\n",
              "    </div>\n",
              "  </div>\n"
            ],
            "application/vnd.google.colaboratory.intrinsic+json": {
              "type": "dataframe",
              "summary": "{\n  \"name\": \"df_churn\",\n  \"rows\": 11,\n  \"fields\": [\n    {\n      \"column\": \"Charges.Monthly\",\n      \"properties\": {\n        \"dtype\": \"number\",\n        \"std\": 23.83148414101892,\n        \"min\": 19.7,\n        \"max\": 80.85,\n        \"num_unique_values\": 11,\n        \"samples\": [\n          25.35,\n          56.05,\n          80.85\n        ],\n        \"semantic_type\": \"\",\n        \"description\": \"\"\n      }\n    },\n    {\n      \"column\": \"Charges.Total\",\n      \"properties\": {\n        \"dtype\": \"number\",\n        \"std\": 23.83148414101892,\n        \"min\": 19.7,\n        \"max\": 80.85,\n        \"num_unique_values\": 11,\n        \"samples\": [\n          25.35,\n          56.05,\n          80.85\n        ],\n        \"semantic_type\": \"\",\n        \"description\": \"\"\n      }\n    }\n  ]\n}"
            }
          },
          "metadata": {},
          "execution_count": 65
        }
      ]
    },
    {
      "cell_type": "code",
      "source": [
        "df_churn.info()"
      ],
      "metadata": {
        "colab": {
          "base_uri": "https://localhost:8080/"
        },
        "id": "aJz14lscbi4a",
        "outputId": "60c4f086-b9d2-49fc-93a1-8081afc76cff"
      },
      "execution_count": 66,
      "outputs": [
        {
          "output_type": "stream",
          "name": "stdout",
          "text": [
            "<class 'pandas.core.frame.DataFrame'>\n",
            "RangeIndex: 7267 entries, 0 to 7266\n",
            "Data columns (total 21 columns):\n",
            " #   Column            Non-Null Count  Dtype  \n",
            "---  ------            --------------  -----  \n",
            " 0   customerID        7267 non-null   object \n",
            " 1   Churn             7267 non-null   object \n",
            " 2   gender            7267 non-null   object \n",
            " 3   SeniorCitizen     7267 non-null   int64  \n",
            " 4   Partner           7267 non-null   object \n",
            " 5   Dependents        7267 non-null   object \n",
            " 6   tenure            7267 non-null   int64  \n",
            " 7   InternetService   7267 non-null   object \n",
            " 8   OnlineSecurity    7267 non-null   object \n",
            " 9   OnlineBackup      7267 non-null   object \n",
            " 10  DeviceProtection  7267 non-null   object \n",
            " 11  TechSupport       7267 non-null   object \n",
            " 12  StreamingTV       7267 non-null   object \n",
            " 13  StreamingMovies   7267 non-null   object \n",
            " 14  Contract          7267 non-null   object \n",
            " 15  PaperlessBilling  7267 non-null   object \n",
            " 16  PaymentMethod     7267 non-null   object \n",
            " 17  Charges.Monthly   7267 non-null   float64\n",
            " 18  Charges.Total     7267 non-null   float64\n",
            " 19  PhoneService      7267 non-null   object \n",
            " 20  MultipleLines     7267 non-null   object \n",
            "dtypes: float64(2), int64(2), object(17)\n",
            "memory usage: 1.2+ MB\n"
          ]
        }
      ]
    },
    {
      "cell_type": "markdown",
      "source": [
        "Como podemos ver, a coluna \"Charges.Total\" está no tipo float64 agora, o que conclui nosso primeiro desafio com o dataframe.\n",
        "Agora vamos analisar a coluna dos churns."
      ],
      "metadata": {
        "id": "rbxHNrqUb7NY"
      }
    },
    {
      "cell_type": "code",
      "source": [
        "for col in df_churn.columns.values:\n",
        "  print(f\"A coluna {col} tem os valores: \", df_churn[col].unique())"
      ],
      "metadata": {
        "id": "zfSuHycncCr2",
        "colab": {
          "base_uri": "https://localhost:8080/"
        },
        "outputId": "7f5a15ac-bba2-4fce-949d-f649514ec1d6"
      },
      "execution_count": 67,
      "outputs": [
        {
          "output_type": "stream",
          "name": "stdout",
          "text": [
            "A coluna customerID tem os valores:  ['0002-ORFBO' '0003-MKNFE' '0004-TLHLJ' ... '9992-UJOEL' '9993-LHIEB'\n",
            " '9995-HOTOH']\n",
            "A coluna Churn tem os valores:  ['No' 'Yes' '']\n",
            "A coluna gender tem os valores:  ['Female' 'Male']\n",
            "A coluna SeniorCitizen tem os valores:  [0 1]\n",
            "A coluna Partner tem os valores:  ['Yes' 'No']\n",
            "A coluna Dependents tem os valores:  ['Yes' 'No']\n",
            "A coluna tenure tem os valores:  [ 9  4 13  3 71 63  7 65 54 72  5 56 34  1 45 50 23 55 26 69 11 37 49 66\n",
            " 67 20 43 59 12 27  2 25 29 14 35 64 39 40  6 30 70 57 58 16 32 33 10 21\n",
            " 61 15 44 22 24 19 47 62 46 52  8 60 48 28 41 53 68 51 31 36 17 18 38 42\n",
            "  0]\n",
            "A coluna InternetService tem os valores:  ['DSL' 'Fiber optic' 'No']\n",
            "A coluna OnlineSecurity tem os valores:  ['No' 'Yes' 'No internet service']\n",
            "A coluna OnlineBackup tem os valores:  ['Yes' 'No' 'No internet service']\n",
            "A coluna DeviceProtection tem os valores:  ['No' 'Yes' 'No internet service']\n",
            "A coluna TechSupport tem os valores:  ['Yes' 'No' 'No internet service']\n",
            "A coluna StreamingTV tem os valores:  ['Yes' 'No' 'No internet service']\n",
            "A coluna StreamingMovies tem os valores:  ['No' 'Yes' 'No internet service']\n",
            "A coluna Contract tem os valores:  ['One year' 'Month-to-month' 'Two year']\n",
            "A coluna PaperlessBilling tem os valores:  ['Yes' 'No']\n",
            "A coluna PaymentMethod tem os valores:  ['Mailed check' 'Electronic check' 'Credit card (automatic)'\n",
            " 'Bank transfer (automatic)']\n",
            "A coluna Charges.Monthly tem os valores:  [65.6  59.9  73.9  ... 91.75 68.8  67.85]\n",
            "A coluna Charges.Total tem os valores:  [ 593.3   542.4   280.85 ...  742.9  4627.65 3707.6 ]\n",
            "A coluna PhoneService tem os valores:  ['Yes' 'No']\n",
            "A coluna MultipleLines tem os valores:  ['No' 'Yes' 'No phone service']\n"
          ]
        }
      ]
    },
    {
      "cell_type": "markdown",
      "source": [
        "Podemos ver que a coluna dos churns, possui três valores: Não, sim e ' '.\n",
        "O valor vazio não representa nada, e é algo a ser obsvervado no dataframe.\n",
        "Não temos uma forma clara de preencher o vazio das linhas. Preencher aleatóriamente com \"Sim\" ou \"Não\" não parece uma boa escolha, como também preencher tudo com Sim, ou tudo com Não, também não.\n",
        "Talvez a melhor opção, neste caso, seja jogar fora as linhas que não possuem informação, já que não se tem uma ideia de como preenche-las."
      ],
      "metadata": {
        "id": "xKYtBOYZO_O-"
      }
    },
    {
      "cell_type": "code",
      "source": [
        "df_churn['Churn'][df_churn['Churn'] == ''].count()"
      ],
      "metadata": {
        "colab": {
          "base_uri": "https://localhost:8080/"
        },
        "id": "Cyb-Nd-fOrLY",
        "outputId": "95c888ba-eaf8-4a89-9f13-10cd303cb753"
      },
      "execution_count": 68,
      "outputs": [
        {
          "output_type": "execute_result",
          "data": {
            "text/plain": [
              "224"
            ]
          },
          "metadata": {},
          "execution_count": 68
        }
      ]
    },
    {
      "cell_type": "markdown",
      "source": [
        "Temos 224 linhas sem informação dentro de um dataframe de mais de 7000 linhas. Isso representa um total de 3% do dataframe. Como a proporção é bem pequena, não há grandes problemas em remover tais linhas, mas sempre é necessário avaliar a situação em que se encontra."
      ],
      "metadata": {
        "id": "En3ltvhvPrpY"
      }
    },
    {
      "cell_type": "code",
      "source": [
        "# Removendo as linhas com valores vazios na coluna \"Churn\"\n",
        "df_churn = df_churn[df_churn['Churn'] != '']\n",
        "\n",
        "df_churn['Churn'].unique()"
      ],
      "metadata": {
        "colab": {
          "base_uri": "https://localhost:8080/"
        },
        "id": "H2GsPGUzQgDE",
        "outputId": "80b015c9-bc25-4d17-e1c9-a2325340dd48"
      },
      "execution_count": 69,
      "outputs": [
        {
          "output_type": "execute_result",
          "data": {
            "text/plain": [
              "array(['No', 'Yes'], dtype=object)"
            ]
          },
          "metadata": {},
          "execution_count": 69
        }
      ]
    },
    {
      "cell_type": "markdown",
      "source": [
        "Com a coluna Churn preenchida, podemos seguir com algumas análises relacionais."
      ],
      "metadata": {
        "id": "tlYiA_fgQs74"
      }
    },
    {
      "cell_type": "code",
      "source": [
        "# Relação de cancelamento x tempo de contrato\n",
        "sns.boxplot(x='Churn', y='tenure', data=df_churn)\n",
        "\n",
        "# Conclusão: Pessoas com mais tempo de contrato tendem a continuar como clientes. Pessoas com uma média de 10 meses de contrato tem maiores chances de cancelar o plano."
      ],
      "metadata": {
        "colab": {
          "base_uri": "https://localhost:8080/",
          "height": 467
        },
        "id": "DBSxBP2hQ3kj",
        "outputId": "c6e2d0ef-c2b4-48ae-fb10-d56c08725992"
      },
      "execution_count": 70,
      "outputs": [
        {
          "output_type": "execute_result",
          "data": {
            "text/plain": [
              "<Axes: xlabel='Churn', ylabel='tenure'>"
            ]
          },
          "metadata": {},
          "execution_count": 70
        },
        {
          "output_type": "display_data",
          "data": {
            "text/plain": [
              "<Figure size 640x480 with 1 Axes>"
            ],
            "image/png": "[encoded data removed]"
          },
          "metadata": {}
        }
      ]
    },
    {
      "cell_type": "code",
      "source": [
        "# Relação cancelamento x gênero\n",
        "sns.countplot(x='gender', hue='Churn', data=df_churn)\n",
        "\n",
        "# Conclusão: Não há relação de gênero na questão de cancelamento"
      ],
      "metadata": {
        "colab": {
          "base_uri": "https://localhost:8080/",
          "height": 467
        },
        "id": "DDCf0kmNRNzv",
        "outputId": "3a51b1ae-c3e2-471d-b2b3-c499b94f3a95"
      },
      "execution_count": 12,
      "outputs": [
        {
          "output_type": "execute_result",
          "data": {
            "text/plain": [
              "<Axes: xlabel='gender', ylabel='count'>"
            ]
          },
          "metadata": {},
          "execution_count": 12
        },
        {
          "output_type": "display_data",
          "data": {
            "text/plain": [
              "<Figure size 640x480 with 1 Axes>"
            ],
            "image/png": "[encoded data removed]"
          },
          "metadata": {}
        }
      ]
    },
    {
      "cell_type": "code",
      "source": [
        "# Relação cancelamento x idoso\n",
        "\n",
        "churn_senior = sns.countplot(x='SeniorCitizen', hue='Churn', data=df_churn, )\n",
        "plt.xticks([0, 1], ['No', 'Yes'])\n",
        "plt.ylabel(\"Quantidade de clientes\")\n",
        "plt.xlabel(\"Idoso\")\n",
        "plt.show()\n",
        "\n",
        "# Conclusão: clientes mais idosos tendem a cancelar mais os planos em relação ao total de clientes idosos (porcentagem)"
      ],
      "metadata": {
        "colab": {
          "base_uri": "https://localhost:8080/",
          "height": 449
        },
        "id": "lexDstgERmO8",
        "outputId": "e75aadaf-3cc5-48f3-bae5-7f6c30fb6439"
      },
      "execution_count": 13,
      "outputs": [
        {
          "output_type": "display_data",
          "data": {
            "text/plain": [
              "<Figure size 640x480 with 1 Axes>"
            ],
            "image/png": "[encoded data removed]"
          },
          "metadata": {}
        }
      ]
    },
    {
      "cell_type": "code",
      "source": [
        "sns.boxplot(\n",
        "    x='Churn',\n",
        "    y='Charges.Monthly',\n",
        "    data=df_churn\n",
        ")"
      ],
      "metadata": {
        "colab": {
          "base_uri": "https://localhost:8080/",
          "height": 467
        },
        "id": "l-MTgYKKV2fY",
        "outputId": "753b90ff-0842-4804-c9bb-7ed1908e40b3"
      },
      "execution_count": 14,
      "outputs": [
        {
          "output_type": "execute_result",
          "data": {
            "text/plain": [
              "<Axes: xlabel='Churn', ylabel='Charges.Monthly'>"
            ]
          },
          "metadata": {},
          "execution_count": 14
        },
        {
          "output_type": "display_data",
          "data": {
            "text/plain": [
              "<Figure size 640x480 with 1 Axes>"
            ],
            "image/png": "[encoded data removed]"
          },
          "metadata": {}
        }
      ]
    },
    {
      "cell_type": "markdown",
      "source": [
        "# Criação de um modelo de predição\n",
        "\n",
        "Poderiamos ficar avaliando os dados e como eles se relacionam graficamente. Mas meu objetivo neste projeto é explorar as capacidades de modelos de machine learning para prever o comportamento de futuros clientes.\n",
        "Isto é o que será feito a partir de agora."
      ],
      "metadata": {
        "id": "rUs5V_RC0rQm"
      }
    },
    {
      "cell_type": "code",
      "source": [
        "# Importando as bibliotecas para machine learning\n",
        "\n",
        "# prompt: importe as bibliotecas para machine learning\n",
        "\n",
        "from sklearn.model_selection import train_test_split\n",
        "from sklearn.tree import DecisionTreeRegressor\n",
        "from sklearn.metrics import mean_absolute_error\n",
        "from sklearn.preprocessing import LabelEncoder"
      ],
      "metadata": {
        "id": "1udwZ3z3063X"
      },
      "execution_count": 71,
      "outputs": []
    },
    {
      "cell_type": "code",
      "source": [
        "# Definindo os dados\n",
        "\n",
        "# Como queremos prever o \"churn\", definiremos ele como nosso y\n",
        "y = df_churn['Churn']\n",
        "\n",
        "# As colunas que serão usadas como análise pelo modelo serão todas as colunas, menos o próprio churn e o ID do cliente (dado inútil para a análise)\n",
        "X = df_churn.drop(['Churn', 'customerID'], axis=1)"
      ],
      "metadata": {
        "id": "PSgpX-NG1OT1"
      },
      "execution_count": 72,
      "outputs": []
    },
    {
      "cell_type": "markdown",
      "source": [
        "# Modelos numéricos\n",
        "Uma coisa super importante vale ressaltar: o modelo trabalha bem com números, mas não com palavras.\n",
        "Se olharmos para nossas colunas de X, teremos vários valores como \"male\", \"female\" e etc, que, na linguagem do modelo não significam nada, ou seja, o modelo (o qual estamos usando) não consgue analisar tais dados para fazer as predições, por isso devemos transformar os dados que estão como objetos, em números, sejam floats ou inteiros.\n",
        "\n",
        "# Conversões de dados\n",
        "Para isso, existem alguns tipos de conversões, mas a que iremos usar será a one-hot-encoding, que separará os diferentes dados de uma mesma coluna e irá criar uma nova coluna para cada variável. Por exemplo, na coluna InternetService, temos \"DSL\", \"FiberOptic\" e \"No\" na mesma coluna. O que o one-hot-encoding irá fazer é criar uma coluna para cada dessas variáveis e atribuir valores de 0 ou 1 para aquela linha, representando sim ou não, respectivamente.\n",
        "\n",
        "Ex:\n",
        "InternetService = \"DSL\":\n",
        "\n",
        "                            DSL   FiberOptic     No\n",
        "                            1         0          0\n",
        "\n",
        "  "
      ],
      "metadata": {
        "id": "B-XUHWQA2UTp"
      }
    },
    {
      "cell_type": "code",
      "source": [
        "# Aplicando o one-hot-encoding\n",
        "\n",
        "for col in X.columns: # Percorrendo todas as colunas do nosso dataframe reduzido (X)\n",
        "  if X[col].dtype == 'object': # Buscando somente os de tipo objeto\n",
        "    X = pd.get_dummies(X, columns=[col]) # Aplicando o one-hot-encoding\n",
        "\n",
        "y.unique()"
      ],
      "metadata": {
        "colab": {
          "base_uri": "https://localhost:8080/"
        },
        "id": "NpDqznJp37-x",
        "outputId": "1756ce21-16a3-4dcd-fc86-733224f8d57a"
      },
      "execution_count": 73,
      "outputs": [
        {
          "output_type": "execute_result",
          "data": {
            "text/plain": [
              "array(['No', 'Yes'], dtype=object)"
            ]
          },
          "metadata": {},
          "execution_count": 73
        }
      ]
    },
    {
      "cell_type": "code",
      "source": [
        "for col in X.columns.values:\n",
        "  print(f\"A coluna {col} tem os valores: \", X[col].unique())"
      ],
      "metadata": {
        "colab": {
          "base_uri": "https://localhost:8080/"
        },
        "id": "GIG0d7D24Z18",
        "outputId": "82a9275a-a3cd-436b-c55d-8682c7a02c81"
      },
      "execution_count": 74,
      "outputs": [
        {
          "output_type": "stream",
          "name": "stdout",
          "text": [
            "A coluna SeniorCitizen tem os valores:  [0 1]\n",
            "A coluna tenure tem os valores:  [ 9  4 13  3 71 63  7 65 54 72  5 56 34  1 45 50 23 55 26 69 37 49 66 67\n",
            " 20 43 59 12 27  2 25 29 14 35 64 39 40 11  6 30 70 57 58 16 32 33 10 21\n",
            " 61 15 44 22 24 19 47 62 46 52  8 60 48 28 41 53 68 31 36 17 18 51 38 42\n",
            "  0]\n",
            "A coluna Charges.Monthly tem os valores:  [65.6  59.9  73.9  ... 91.75 68.8  67.85]\n",
            "A coluna Charges.Total tem os valores:  [ 593.3   542.4   280.85 ...  742.9  4627.65 3707.6 ]\n",
            "A coluna gender_Female tem os valores:  [ True False]\n",
            "A coluna gender_Male tem os valores:  [False  True]\n",
            "A coluna Partner_No tem os valores:  [False  True]\n",
            "A coluna Partner_Yes tem os valores:  [ True False]\n",
            "A coluna Dependents_No tem os valores:  [False  True]\n",
            "A coluna Dependents_Yes tem os valores:  [ True False]\n",
            "A coluna InternetService_DSL tem os valores:  [ True False]\n",
            "A coluna InternetService_Fiber optic tem os valores:  [False  True]\n",
            "A coluna InternetService_No tem os valores:  [False  True]\n",
            "A coluna OnlineSecurity_No tem os valores:  [ True False]\n",
            "A coluna OnlineSecurity_No internet service tem os valores:  [False  True]\n",
            "A coluna OnlineSecurity_Yes tem os valores:  [False  True]\n",
            "A coluna OnlineBackup_No tem os valores:  [False  True]\n",
            "A coluna OnlineBackup_No internet service tem os valores:  [False  True]\n",
            "A coluna OnlineBackup_Yes tem os valores:  [ True False]\n",
            "A coluna DeviceProtection_No tem os valores:  [ True False]\n",
            "A coluna DeviceProtection_No internet service tem os valores:  [False  True]\n",
            "A coluna DeviceProtection_Yes tem os valores:  [False  True]\n",
            "A coluna TechSupport_No tem os valores:  [False  True]\n",
            "A coluna TechSupport_No internet service tem os valores:  [False  True]\n",
            "A coluna TechSupport_Yes tem os valores:  [ True False]\n",
            "A coluna StreamingTV_No tem os valores:  [False  True]\n",
            "A coluna StreamingTV_No internet service tem os valores:  [False  True]\n",
            "A coluna StreamingTV_Yes tem os valores:  [ True False]\n",
            "A coluna StreamingMovies_No tem os valores:  [ True False]\n",
            "A coluna StreamingMovies_No internet service tem os valores:  [False  True]\n",
            "A coluna StreamingMovies_Yes tem os valores:  [False  True]\n",
            "A coluna Contract_Month-to-month tem os valores:  [False  True]\n",
            "A coluna Contract_One year tem os valores:  [ True False]\n",
            "A coluna Contract_Two year tem os valores:  [False  True]\n",
            "A coluna PaperlessBilling_No tem os valores:  [False  True]\n",
            "A coluna PaperlessBilling_Yes tem os valores:  [ True False]\n",
            "A coluna PaymentMethod_Bank transfer (automatic) tem os valores:  [False  True]\n",
            "A coluna PaymentMethod_Credit card (automatic) tem os valores:  [False  True]\n",
            "A coluna PaymentMethod_Electronic check tem os valores:  [False  True]\n",
            "A coluna PaymentMethod_Mailed check tem os valores:  [ True False]\n",
            "A coluna PhoneService_No tem os valores:  [False  True]\n",
            "A coluna PhoneService_Yes tem os valores:  [ True False]\n",
            "A coluna MultipleLines_No tem os valores:  [ True False]\n",
            "A coluna MultipleLines_No phone service tem os valores:  [False  True]\n",
            "A coluna MultipleLines_Yes tem os valores:  [False  True]\n"
          ]
        }
      ]
    },
    {
      "cell_type": "code",
      "source": [
        "# A coluna dos churns está em \"Yes\" ou \"No\", ou seja, também precisa ser encodada\n",
        "y = y.replace({\"Yes\": 1, \"No\": 0})"
      ],
      "metadata": {
        "id": "noEMx0wW4sOW"
      },
      "execution_count": 112,
      "outputs": []
    },
    {
      "cell_type": "markdown",
      "source": [
        "# Incializando o modelo e realizando as predições\n",
        "\n",
        "Agora com todos os dados como números, podemos encaixá-los no modelo."
      ],
      "metadata": {
        "id": "qy2Vo8AE6yAr"
      }
    },
    {
      "cell_type": "code",
      "source": [
        "# Dividindo os dados entre treino e teste. Usaremos um fator de 30% para o teste (2100 linhas de dados)\n",
        "\n",
        "X_train, X_test, y_train, y_test = train_test_split(X, y, test_size=0.3)\n",
        "\n",
        "# Criando o modelo\n",
        "\n",
        "model = DecisionTreeRegressor(max_leaf_nodes=500) # Escolhendo 500 folhas\n",
        "\n",
        "# Encaixando os dados no modelo\n",
        "\n",
        "model.fit(X_train, y_train)\n",
        "\n",
        "# Predizendo os dados\n",
        "\n",
        "y_pred_tree = model.predict(X_test)\n",
        "\n",
        "# Avaliando o modelo\n",
        "\n",
        "mean_absolute_error(y_test, y_pred_tree)"
      ],
      "metadata": {
        "colab": {
          "base_uri": "https://localhost:8080/"
        },
        "id": "aaOI5PHB2RpJ",
        "outputId": "d10e6f80-582c-4251-cf3a-af95761eed79"
      },
      "execution_count": 114,
      "outputs": [
        {
          "output_type": "execute_result",
          "data": {
            "text/plain": [
              "0.2702498875908132"
            ]
          },
          "metadata": {},
          "execution_count": 114
        }
      ]
    },
    {
      "cell_type": "code",
      "source": [
        "# Função para descobrir a melhor quantidade de leaves para o modelo\n",
        "\n",
        "def get_mae(max_leaf_nodes, X_train, X_test, y_train, y_test):\n",
        "    model = DecisionTreeRegressor(max_leaf_nodes=max_leaf_nodes, random_state=0)\n",
        "    return mean_absolute_error(y_test, model.fit(X_train, y_train).predict(X_test))"
      ],
      "metadata": {
        "id": "GgYiKEtn_Mfj"
      },
      "execution_count": 115,
      "outputs": []
    },
    {
      "cell_type": "code",
      "source": [
        "leaves_to_test = [100, 200, 500, 1000]\n",
        "\n",
        "for leave in leaves_to_test:\n",
        "    print(f\"Leaves: {leave} \\t\\t MAE: {get_mae(leave, X_train, X_test, y_train, y_test)}\")"
      ],
      "metadata": {
        "colab": {
          "base_uri": "https://localhost:8080/"
        },
        "id": "1JAs3POn_bVC",
        "outputId": "cdbe5db6-a7f8-4e79-d422-bcb10e6aa230"
      },
      "execution_count": 116,
      "outputs": [
        {
          "output_type": "stream",
          "name": "stdout",
          "text": [
            "Leaves: 100 \t\t MAE: 0.2651563373716252\n",
            "Leaves: 200 \t\t MAE: 0.2644337181689012\n",
            "Leaves: 500 \t\t MAE: 0.2708527316626586\n",
            "Leaves: 1000 \t\t MAE: 0.2728348319924278\n"
          ]
        }
      ]
    },
    {
      "cell_type": "markdown",
      "source": [
        "Como o modelo de melhor performance foi o com 500 folhas (0.268 de erro médio), iremos o escolher para avaliar os dados."
      ],
      "metadata": {
        "id": "87_U7eBt_sN7"
      }
    },
    {
      "cell_type": "code",
      "source": [
        "y_pred = pd.DataFrame(y_pred_tree)"
      ],
      "metadata": {
        "id": "pf0qMIab93V9"
      },
      "execution_count": 111,
      "outputs": []
    },
    {
      "cell_type": "code",
      "source": [
        "from sklearn.metrics import confusion_matrix\n",
        "\n",
        "# Conversão binária (0 e 1)\n",
        "y_pred_binary = (y_pred > 0.5).astype(int)\n",
        "\n",
        "# Criando a matriz de confusão\n",
        "cm = confusion_matrix(y_test, y_pred_binary)\n",
        "\n",
        "print(cm)\n"
      ],
      "metadata": {
        "colab": {
          "base_uri": "https://localhost:8080/"
        },
        "id": "91fSAtVT-TaO",
        "outputId": "dd3db31b-a6d2-4266-9ba3-ab6b6966d150"
      },
      "execution_count": 117,
      "outputs": [
        {
          "output_type": "stream",
          "name": "stdout",
          "text": [
            "[[1198  372]\n",
            " [ 417  126]]\n"
          ]
        }
      ]
    },
    {
      "cell_type": "markdown",
      "source": [
        "A matriz de confusão acima mostra como as predições foram dispersadas dentro do teste.\n",
        "Um total de 1602 de acertos para 511 erros, dentre eles, 1313 verdadeiros-positivos, 289 verdadeiros-falsos, 218 falsos-positivos e 293 verdadeiros-negativos.\n",
        "Existem outros modelos que podem proporcionar um menor erro, que veremos a seguir."
      ],
      "metadata": {
        "id": "Vx5TrzKZAEiL"
      }
    },
    {
      "cell_type": "code",
      "source": [
        "from sklearn.ensemble import RandomForestRegressor\n",
        "\n",
        "# Criando o modelo\n",
        "forest_model = RandomForestRegressor(random_state=1)\n",
        "\n",
        "# Encaixando os dados no modelo\n",
        "forest_model.fit(X_train, y_train)\n",
        "\n",
        "# Predizendo os dados\n",
        "y_pred_forest = forest_model.predict(X_test)\n",
        "\n",
        "# Avaliando o modelo\n",
        "print(mean_absolute_error(y_test, y_pred_forest))\n",
        "\n",
        "# Conversão binária (0 e 1)\n",
        "y_pred_forest_binary = (y_pred_forest > 0.5).astype(int)\n",
        "\n",
        "# Criando a matriz de confusão\n",
        "cm_forest = confusion_matrix(y_test, y_pred_forest_binary)\n",
        "\n",
        "print(cm_forest)\n"
      ],
      "metadata": {
        "colab": {
          "base_uri": "https://localhost:8080/"
        },
        "id": "KUU_LnseAx8R",
        "outputId": "ba283cce-4282-4ed9-af3c-f20137ee4646"
      },
      "execution_count": 118,
      "outputs": [
        {
          "output_type": "stream",
          "name": "stdout",
          "text": [
            "0.27385779640772545\n",
            "[[1368  202]\n",
            " [ 262  281]]\n"
          ]
        }
      ]
    },
    {
      "cell_type": "code",
      "source": [
        "from sklearn.linear_model import LinearRegression\n",
        "\n",
        "# Modelo\n",
        "linear_model = LinearRegression()\n",
        "\n",
        "# Alimentando o modelo com os dados\n",
        "linear_model.fit(X_train, y_train)\n",
        "\n",
        "# Predições\n",
        "y_pred_linear = linear_model.predict(X_test)\n",
        "\n",
        "# Avaliando erro médio\n",
        "print(mean_absolute_error(y_test, y_pred_linear))\n",
        "\n",
        "# Conversão binária (0 e 1)\n",
        "y_pred_linear_binary = (y_pred_linear > 0.5).astype(int)\n",
        "\n",
        "# Criando a matriz de confusão\n",
        "cm_linear = confusion_matrix(y_test, y_pred_linear_binary)\n",
        "\n",
        "print(cm_linear)"
      ],
      "metadata": {
        "colab": {
          "base_uri": "https://localhost:8080/"
        },
        "id": "DksOAkg0A8Ul",
        "outputId": "a26bbd29-8875-47a9-8e4f-6f5f70a76e39"
      },
      "execution_count": 119,
      "outputs": [
        {
          "output_type": "stream",
          "name": "stdout",
          "text": [
            "0.2962819560344423\n",
            "[[1419  151]\n",
            " [ 264  279]]\n"
          ]
        }
      ]
    },
    {
      "cell_type": "code",
      "source": [
        "from sklearn.neighbors import KNeighborsClassifier\n",
        "from sklearn.preprocessing import StandardScaler\n",
        "\n",
        "# Escalando os dados (manter as mesmas proporções entre as variáveis - como são somente 0 e 1, não seria necessário)\n",
        "scaler = StandardScaler()\n",
        "X_train = scaler.fit_transform(X_train)\n",
        "X_test = scaler.transform(X_test)\n",
        "\n",
        "#  Modelo KNN\n",
        "knn_model = KNeighborsClassifier(n_neighbors=5) # You can adjust the number of neighbors\n",
        "\n",
        "# Encaixando no modelo (lá ele)\n",
        "knn_model.fit(X_train, y_train)\n",
        "\n",
        "# Predição\n",
        "y_pred_knn = knn_model.predict(X_test)\n",
        "\n",
        "# Avaliando o modelo\n",
        "print(mean_absolute_error(y_test, y_pred_knn))\n",
        "\n",
        "# Criando a matriz de confusão\n",
        "cm_knn = confusion_matrix(y_test, y_pred_knn)\n",
        "\n",
        "print(cm_knn)"
      ],
      "metadata": {
        "colab": {
          "base_uri": "https://localhost:8080/"
        },
        "id": "WjadurehBH0u",
        "outputId": "0fe9529e-e8b1-432f-b9fb-ae573806b7f2"
      },
      "execution_count": 120,
      "outputs": [
        {
          "output_type": "stream",
          "name": "stdout",
          "text": [
            "0.23473734027449125\n",
            "[[1311  259]\n",
            " [ 237  306]]\n"
          ]
        }
      ]
    },
    {
      "cell_type": "code",
      "source": [
        "# Precisão de todos os modelos\n",
        "from sklearn.metrics import precision_score\n",
        "\n",
        "tree_precision = precision_score(y_test, y_pred_binary)\n",
        "forest_precision = precision_score(y_test, y_pred_forest_binary)\n",
        "linear_precision = precision_score(y_test, y_pred_linear_binary)\n",
        "knn_precision = precision_score(y_test, y_pred_knn)"
      ],
      "metadata": {
        "id": "X-zkwuppKweR"
      },
      "execution_count": 121,
      "outputs": []
    },
    {
      "cell_type": "code",
      "source": [
        "df_preds = pd.DataFrame(\n",
        "    {\n",
        "        \"Model\": [\"Decision Tree\", \"Random Forest\", \"Linear Regression\", \"KNN\"],\n",
        "        \"Precision\": [tree_precision, forest_precision, linear_precision, knn_precision],\n",
        "    }\n",
        ")\n",
        "\n",
        "df_preds"
      ],
      "metadata": {
        "colab": {
          "base_uri": "https://localhost:8080/",
          "height": 175
        },
        "id": "-93E-BI2Kb2V",
        "outputId": "7b543bf6-d3fe-42c8-9789-ff20a8fcebc9"
      },
      "execution_count": 122,
      "outputs": [
        {
          "output_type": "execute_result",
          "data": {
            "text/plain": [
              "               Model  Precision\n",
              "0      Decision Tree   0.253012\n",
              "1      Random Forest   0.581781\n",
              "2  Linear Regression   0.648837\n",
              "3                KNN   0.541593"
            ],
            "text/html": [
              "\n",
              "  <div id=\"df-ddfe20b7-25f6-4251-864d-5258060132d0\" class=\"colab-df-container\">\n",
              "    <div>\n",
              "<style scoped>\n",
              "    .dataframe tbody tr th:only-of-type {\n",
              "        vertical-align: middle;\n",
              "    }\n",
              "\n",
              "    .dataframe tbody tr th {\n",
              "        vertical-align: top;\n",
              "    }\n",
              "\n",
              "    .dataframe thead th {\n",
              "        text-align: right;\n",
              "    }\n",
              "</style>\n",
              "<table border=\"1\" class=\"dataframe\">\n",
              "  <thead>\n",
              "    <tr style=\"text-align: right;\">\n",
              "      <th></th>\n",
              "      <th>Model</th>\n",
              "      <th>Precision</th>\n",
              "    </tr>\n",
              "  </thead>\n",
              "  <tbody>\n",
              "    <tr>\n",
              "      <th>0</th>\n",
              "      <td>Decision Tree</td>\n",
              "      <td>0.253012</td>\n",
              "    </tr>\n",
              "    <tr>\n",
              "      <th>1</th>\n",
              "      <td>Random Forest</td>\n",
              "      <td>0.581781</td>\n",
              "    </tr>\n",
              "    <tr>\n",
              "      <th>2</th>\n",
              "      <td>Linear Regression</td>\n",
              "      <td>0.648837</td>\n",
              "    </tr>\n",
              "    <tr>\n",
              "      <th>3</th>\n",
              "      <td>KNN</td>\n",
              "      <td>0.541593</td>\n",
              "    </tr>\n",
              "  </tbody>\n",
              "</table>\n",
              "</div>\n",
              "    <div class=\"colab-df-buttons\">\n",
              "\n",
              "  <div class=\"colab-df-container\">\n",
              "    <button class=\"colab-df-convert\" onclick=\"convertToInteractive('df-ddfe20b7-25f6-4251-864d-5258060132d0')\"\n",
              "            title=\"Convert this dataframe to an interactive table.\"\n",
              "            style=\"display:none;\">\n",
              "\n",
              "  <svg xmlns=\"http://www.w3.org/2000/svg\" height=\"24px\" viewBox=\"0 -960 960 960\">\n",
              "    <path d=\"M120-120v-720h720v720H120Zm60-500h600v-160H180v160Zm220 220h160v-160H400v160Zm0 220h160v-160H400v160ZM180-400h160v-160H180v160Zm440 0h160v-160H620v160ZM180-180h160v-160H180v160Zm440 0h160v-160H620v160Z\"/>\n",
              "  </svg>\n",
              "    </button>\n",
              "\n",
              "  <style>\n",
              "    .colab-df-container {\n",
              "      display:flex;\n",
              "      gap: 12px;\n",
              "    }\n",
              "\n",
              "    .colab-df-convert {\n",
              "      background-color: #E8F0FE;\n",
              "      border: none;\n",
              "      border-radius: 50%;\n",
              "      cursor: pointer;\n",
              "      display: none;\n",
              "      fill: #1967D2;\n",
              "      height: 32px;\n",
              "      padding: 0 0 0 0;\n",
              "      width: 32px;\n",
              "    }\n",
              "\n",
              "    .colab-df-convert:hover {\n",
              "      background-color: #E2EBFA;\n",
              "      box-shadow: 0px 1px 2px rgba(60, 64, 67, 0.3), 0px 1px 3px 1px rgba(60, 64, 67, 0.15);\n",
              "      fill: #174EA6;\n",
              "    }\n",
              "\n",
              "    .colab-df-buttons div {\n",
              "      margin-bottom: 4px;\n",
              "    }\n",
              "\n",
              "    [theme=dark] .colab-df-convert {\n",
              "      background-color: #3B4455;\n",
              "      fill: #D2E3FC;\n",
              "    }\n",
              "\n",
              "    [theme=dark] .colab-df-convert:hover {\n",
              "      background-color: #434B5C;\n",
              "      box-shadow: 0px 1px 3px 1px rgba(0, 0, 0, 0.15);\n",
              "      filter: drop-shadow(0px 1px 2px rgba(0, 0, 0, 0.3));\n",
              "      fill: #FFFFFF;\n",
              "    }\n",
              "  </style>\n",
              "\n",
              "    <script>\n",
              "      const buttonEl =\n",
              "        document.querySelector('#df-ddfe20b7-25f6-4251-864d-5258060132d0 button.colab-df-convert');\n",
              "      buttonEl.style.display =\n",
              "        google.colab.kernel.accessAllowed ? 'block' : 'none';\n",
              "\n",
              "      async function convertToInteractive(key) {\n",
              "        const element = document.querySelector('#df-ddfe20b7-25f6-4251-864d-5258060132d0');\n",
              "        const dataTable =\n",
              "          await google.colab.kernel.invokeFunction('convertToInteractive',\n",
              "                                                    [key], {});\n",
              "        if (!dataTable) return;\n",
              "\n",
              "        const docLinkHtml = 'Like what you see? Visit the ' +\n",
              "          '<a target=\"_blank\" href=https://colab.research.google.com/notebooks/data_table.ipynb>data table notebook</a>'\n",
              "          + ' to learn more about interactive tables.';\n",
              "        element.innerHTML = '';\n",
              "        dataTable['output_type'] = 'display_data';\n",
              "        await google.colab.output.renderOutput(dataTable, element);\n",
              "        const docLink = document.createElement('div');\n",
              "        docLink.innerHTML = docLinkHtml;\n",
              "        element.appendChild(docLink);\n",
              "      }\n",
              "    </script>\n",
              "  </div>\n",
              "\n",
              "\n",
              "<div id=\"df-bdca007a-f199-44ff-a879-c724f0bea6ea\">\n",
              "  <button class=\"colab-df-quickchart\" onclick=\"quickchart('df-bdca007a-f199-44ff-a879-c724f0bea6ea')\"\n",
              "            title=\"Suggest charts\"\n",
              "            style=\"display:none;\">\n",
              "\n",
              "<svg xmlns=\"http://www.w3.org/2000/svg\" height=\"24px\"viewBox=\"0 0 24 24\"\n",
              "     width=\"24px\">\n",
              "    <g>\n",
              "        <path d=\"M19 3H5c-1.1 0-2 .9-2 2v14c0 1.1.9 2 2 2h14c1.1 0 2-.9 2-2V5c0-1.1-.9-2-2-2zM9 17H7v-7h2v7zm4 0h-2V7h2v10zm4 0h-2v-4h2v4z\"/>\n",
              "    </g>\n",
              "</svg>\n",
              "  </button>\n",
              "\n",
              "<style>\n",
              "  .colab-df-quickchart {\n",
              "      --bg-color: #E8F0FE;\n",
              "      --fill-color: #1967D2;\n",
              "      --hover-bg-color: #E2EBFA;\n",
              "      --hover-fill-color: #174EA6;\n",
              "      --disabled-fill-color: #AAA;\n",
              "      --disabled-bg-color: #DDD;\n",
              "  }\n",
              "\n",
              "  [theme=dark] .colab-df-quickchart {\n",
              "      --bg-color: #3B4455;\n",
              "      --fill-color: #D2E3FC;\n",
              "      --hover-bg-color: #434B5C;\n",
              "      --hover-fill-color: #FFFFFF;\n",
              "      --disabled-bg-color: #3B4455;\n",
              "      --disabled-fill-color: #666;\n",
              "  }\n",
              "\n",
              "  .colab-df-quickchart {\n",
              "    background-color: var(--bg-color);\n",
              "    border: none;\n",
              "    border-radius: 50%;\n",
              "    cursor: pointer;\n",
              "    display: none;\n",
              "    fill: var(--fill-color);\n",
              "    height: 32px;\n",
              "    padding: 0;\n",
              "    width: 32px;\n",
              "  }\n",
              "\n",
              "  .colab-df-quickchart:hover {\n",
              "    background-color: var(--hover-bg-color);\n",
              "    box-shadow: 0 1px 2px rgba(60, 64, 67, 0.3), 0 1px 3px 1px rgba(60, 64, 67, 0.15);\n",
              "    fill: var(--button-hover-fill-color);\n",
              "  }\n",
              "\n",
              "  .colab-df-quickchart-complete:disabled,\n",
              "  .colab-df-quickchart-complete:disabled:hover {\n",
              "    background-color: var(--disabled-bg-color);\n",
              "    fill: var(--disabled-fill-color);\n",
              "    box-shadow: none;\n",
              "  }\n",
              "\n",
              "  .colab-df-spinner {\n",
              "    border: 2px solid var(--fill-color);\n",
              "    border-color: transparent;\n",
              "    border-bottom-color: var(--fill-color);\n",
              "    animation:\n",
              "      spin 1s steps(1) infinite;\n",
              "  }\n",
              "\n",
              "  @keyframes spin {\n",
              "    0% {\n",
              "      border-color: transparent;\n",
              "      border-bottom-color: var(--fill-color);\n",
              "      border-left-color: var(--fill-color);\n",
              "    }\n",
              "    20% {\n",
              "      border-color: transparent;\n",
              "      border-left-color: var(--fill-color);\n",
              "      border-top-color: var(--fill-color);\n",
              "    }\n",
              "    30% {\n",
              "      border-color: transparent;\n",
              "      border-left-color: var(--fill-color);\n",
              "      border-top-color: var(--fill-color);\n",
              "      border-right-color: var(--fill-color);\n",
              "    }\n",
              "    40% {\n",
              "      border-color: transparent;\n",
              "      border-right-color: var(--fill-color);\n",
              "      border-top-color: var(--fill-color);\n",
              "    }\n",
              "    60% {\n",
              "      border-color: transparent;\n",
              "      border-right-color: var(--fill-color);\n",
              "    }\n",
              "    80% {\n",
              "      border-color: transparent;\n",
              "      border-right-color: var(--fill-color);\n",
              "      border-bottom-color: var(--fill-color);\n",
              "    }\n",
              "    90% {\n",
              "      border-color: transparent;\n",
              "      border-bottom-color: var(--fill-color);\n",
              "    }\n",
              "  }\n",
              "</style>\n",
              "\n",
              "  <script>\n",
              "    async function quickchart(key) {\n",
              "      const quickchartButtonEl =\n",
              "        document.querySelector('#' + key + ' button');\n",
              "      quickchartButtonEl.disabled = true;  // To prevent multiple clicks.\n",
              "      quickchartButtonEl.classList.add('colab-df-spinner');\n",
              "      try {\n",
              "        const charts = await google.colab.kernel.invokeFunction(\n",
              "            'suggestCharts', [key], {});\n",
              "      } catch (error) {\n",
              "        console.error('Error during call to suggestCharts:', error);\n",
              "      }\n",
              "      quickchartButtonEl.classList.remove('colab-df-spinner');\n",
              "      quickchartButtonEl.classList.add('colab-df-quickchart-complete');\n",
              "    }\n",
              "    (() => {\n",
              "      let quickchartButtonEl =\n",
              "        document.querySelector('#df-bdca007a-f199-44ff-a879-c724f0bea6ea button');\n",
              "      quickchartButtonEl.style.display =\n",
              "        google.colab.kernel.accessAllowed ? 'block' : 'none';\n",
              "    })();\n",
              "  </script>\n",
              "</div>\n",
              "\n",
              "  <div id=\"id_14c2418e-2950-4226-8a50-dcf0aeb8ac8f\">\n",
              "    <style>\n",
              "      .colab-df-generate {\n",
              "        background-color: #E8F0FE;\n",
              "        border: none;\n",
              "        border-radius: 50%;\n",
              "        cursor: pointer;\n",
              "        display: none;\n",
              "        fill: #1967D2;\n",
              "        height: 32px;\n",
              "        padding: 0 0 0 0;\n",
              "        width: 32px;\n",
              "      }\n",
              "\n",
              "      .colab-df-generate:hover {\n",
              "        background-color: #E2EBFA;\n",
              "        box-shadow: 0px 1px 2px rgba(60, 64, 67, 0.3), 0px 1px 3px 1px rgba(60, 64, 67, 0.15);\n",
              "        fill: #174EA6;\n",
              "      }\n",
              "\n",
              "      [theme=dark] .colab-df-generate {\n",
              "        background-color: #3B4455;\n",
              "        fill: #D2E3FC;\n",
              "      }\n",
              "\n",
              "      [theme=dark] .colab-df-generate:hover {\n",
              "        background-color: #434B5C;\n",
              "        box-shadow: 0px 1px 3px 1px rgba(0, 0, 0, 0.15);\n",
              "        filter: drop-shadow(0px 1px 2px rgba(0, 0, 0, 0.3));\n",
              "        fill: #FFFFFF;\n",
              "      }\n",
              "    </style>\n",
              "    <button class=\"colab-df-generate\" onclick=\"generateWithVariable('df_preds')\"\n",
              "            title=\"Generate code using this dataframe.\"\n",
              "            style=\"display:none;\">\n",
              "\n",
              "  <svg xmlns=\"http://www.w3.org/2000/svg\" height=\"24px\"viewBox=\"0 0 24 24\"\n",
              "       width=\"24px\">\n",
              "    <path d=\"M7,19H8.4L18.45,9,17,7.55,7,17.6ZM5,21V16.75L18.45,3.32a2,2,0,0,1,2.83,0l1.4,1.43a1.91,1.91,0,0,1,.58,1.4,1.91,1.91,0,0,1-.58,1.4L9.25,21ZM18.45,9,17,7.55Zm-12,3A5.31,5.31,0,0,0,4.9,8.1,5.31,5.31,0,0,0,1,6.5,5.31,5.31,0,0,0,4.9,4.9,5.31,5.31,0,0,0,6.5,1,5.31,5.31,0,0,0,8.1,4.9,5.31,5.31,0,0,0,12,6.5,5.46,5.46,0,0,0,6.5,12Z\"/>\n",
              "  </svg>\n",
              "    </button>\n",
              "    <script>\n",
              "      (() => {\n",
              "      const buttonEl =\n",
              "        document.querySelector('#id_14c2418e-2950-4226-8a50-dcf0aeb8ac8f button.colab-df-generate');\n",
              "      buttonEl.style.display =\n",
              "        google.colab.kernel.accessAllowed ? 'block' : 'none';\n",
              "\n",
              "      buttonEl.onclick = () => {\n",
              "        google.colab.notebook.generateWithVariable('df_preds');\n",
              "      }\n",
              "      })();\n",
              "    </script>\n",
              "  </div>\n",
              "\n",
              "    </div>\n",
              "  </div>\n"
            ],
            "application/vnd.google.colaboratory.intrinsic+json": {
              "type": "dataframe",
              "variable_name": "df_preds",
              "summary": "{\n  \"name\": \"df_preds\",\n  \"rows\": 4,\n  \"fields\": [\n    {\n      \"column\": \"Model\",\n      \"properties\": {\n        \"dtype\": \"string\",\n        \"num_unique_values\": 4,\n        \"samples\": [\n          \"Random Forest\",\n          \"KNN\",\n          \"Decision Tree\"\n        ],\n        \"semantic_type\": \"\",\n        \"description\": \"\"\n      }\n    },\n    {\n      \"column\": \"Precision\",\n      \"properties\": {\n        \"dtype\": \"number\",\n        \"std\": 0.17456091995528314,\n        \"min\": 0.25301204819277107,\n        \"max\": 0.6488372093023256,\n        \"num_unique_values\": 4,\n        \"samples\": [\n          0.5817805383022774,\n          0.5415929203539823,\n          0.25301204819277107\n        ],\n        \"semantic_type\": \"\",\n        \"description\": \"\"\n      }\n    }\n  ]\n}"
            }
          },
          "metadata": {},
          "execution_count": 122
        }
      ]
    },
    {
      "cell_type": "markdown",
      "source": [
        "# Análise das precições\n",
        "\n",
        "Como podemos ver na tabela de precisão, o modelo com maior precisão foi o modelo de regressão linear."
      ],
      "metadata": {
        "id": "b2KkItmOSiFb"
      }
    },
    {
      "cell_type": "markdown",
      "source": [
        "Conhecimento interessante que adquiri durante a pesquisa para este código:\n",
        "\n",
        "# MAE  x Precisão\n",
        "\n",
        "MAE é, resumidademente, o erro médio de um modelo, ou seja, como a distância dos dados preditados se comportam em relação a uma média. Um MAE grande significa que o modelo pode fazer predições com uma ampla magnitude de erro, por exemplo, um valor que era para ser 200 acaba por ser 400.\n",
        "Um MAE alto significa que o seu modelo tem uma dificuldade em se aproximar dos dados, mas **não necessariamente possui uma baixa precisão.**\n",
        "A precisão é a medida que compara a quantidade de acertos com os erros, ou seja, acertos/total nos da a proporção de acertos do modelo.\n",
        "Mas como a precisão não está diretamente relacionada ao MAE?\n",
        "\n",
        "Bom, isso pode ser explicado com o seguinte: Suponha que você possui uma lista de valores que você quer predizer, e utiliza alguns modelos para isso.\n",
        "O MAE irá avaliar o quão próximo seus resultados estão do verdadeiro, por outra visão, seria o módulo da distância entre dois pontos em uma reta.\n",
        "Se a distância for grande entre a maioria dos pontos preditos e os pontos reais, o MAE será grande.\n",
        "Por exemplo:\n",
        "\n",
        "\n",
        "    Pontos reais    Predição     Distância\n",
        "        2             1             1\n",
        "        3             3             0\n",
        "        1             4             3\n",
        "\n",
        "O MAE é a média destas distância. Note que o MAE não nos diz exatamente se os dados estão certos ou errados, apenas nos da a proximidade com os atuais, mas isso não significa que um modelo com baixo MAE teria uma precisão maior.\n",
        "\n",
        "Por exemplo:\n",
        "\n",
        "  1) Baixo MAE, Baixa precisão\n",
        "\n",
        "  O que acontece aqui, é que seus dados preditos estão bem próximos aos dados reais, porém igualmente dispersos. É como atirar flechas várias vezes em um alvo e elas estares próxima ao centro, mas com muitas delas ao redor, causando uma grande dispersão média.\n",
        "\n",
        "  1) Alto MAE, Alta precisão\n",
        "\n",
        "  Neste caso, seus dados podem ser imprevisíveis, mas possuem uma boa taxa de acerto. Por exemplo, se atirarmos flechas sobre um alvo repetidas vezes e a maioria delas acertarem o centro, porém algumas delas podem desviar muito do alto, atingindo o as bordas.\n",
        "\n",
        "Obviamente um modelo pode ter ambos MAE baixo e alta precisão, mas o que é interessante ressaltar é que **eles não estão conectados.**"
      ],
      "metadata": {
        "id": "qFHaER1xNoPr"
      }
    },
    {
      "cell_type": "markdown",
      "source": [
        "# OBS\n",
        "Esqueci de colocar o random_state na maioria dos modelos, então os dados que são ditos durante as explicações podem variar um pouco..."
      ],
      "metadata": {
        "id": "_cjv9qx3TMDD"
      }
    }
  ]
}